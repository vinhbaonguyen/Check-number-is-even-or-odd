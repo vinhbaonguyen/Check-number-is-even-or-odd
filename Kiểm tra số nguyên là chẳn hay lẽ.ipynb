{
 "cells": [
  {
   "cell_type": "markdown",
   "id": "b617d740",
   "metadata": {},
   "source": [
    "#Kiểm tra số nhập vào là số chẳn hoặc lẻ, sử dụng toán tử điều kiện ba ngôi"
   ]
  },
  {
   "cell_type": "code",
   "execution_count": 3,
   "id": "94277090",
   "metadata": {},
   "outputs": [
    {
     "name": "stdout",
     "output_type": "stream",
     "text": [
      "Nhập vào 1 số nguyên bất kỳ=5\n",
      "số nguyên 5 là số lẽ\n"
     ]
    }
   ],
   "source": [
    "n=int(input(\"Nhập vào 1 số nguyên bất kỳ=\"))\n",
    "print(f\"Số nguyên {n} là số chẳn\" if n % 2 == 0 else f\"số nguyên {n} là số lẽ\")"
   ]
  }
 ],
 "metadata": {
  "kernelspec": {
   "display_name": "Python 3 (ipykernel)",
   "language": "python",
   "name": "python3"
  },
  "language_info": {
   "codemirror_mode": {
    "name": "ipython",
    "version": 3
   },
   "file_extension": ".py",
   "mimetype": "text/x-python",
   "name": "python",
   "nbconvert_exporter": "python",
   "pygments_lexer": "ipython3",
   "version": "3.11.1"
  }
 },
 "nbformat": 4,
 "nbformat_minor": 5
}
